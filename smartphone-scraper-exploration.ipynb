{
 "cells": [
  {
   "cell_type": "code",
   "execution_count": 1,
   "id": "26d937ae",
   "metadata": {},
   "outputs": [],
   "source": [
    "from bs4 import BeautifulSoup as bs"
   ]
  },
  {
   "cell_type": "code",
   "execution_count": 2,
   "id": "54e01ae7",
   "metadata": {},
   "outputs": [],
   "source": [
    "import requests"
   ]
  },
  {
   "cell_type": "code",
   "execution_count": 3,
   "id": "46bc9ebd",
   "metadata": {},
   "outputs": [],
   "source": [
    "url = 'https://www.gsmarena.com/xiaomi_12-11285.php'"
   ]
  },
  {
   "cell_type": "code",
   "execution_count": 4,
   "id": "ef4c49d7",
   "metadata": {},
   "outputs": [],
   "source": [
    "page = requests.get(url)"
   ]
  },
  {
   "cell_type": "markdown",
   "id": "8252e56d",
   "metadata": {},
   "source": [
    "## Saving HTML File\n",
    "> Biar gak terlalu banyak request ke web aslinya, bisa kena block cuy"
   ]
  },
  {
   "cell_type": "code",
   "execution_count": 5,
   "id": "43160b21",
   "metadata": {},
   "outputs": [],
   "source": [
    "file = open('xiaomi_12-11285.html', 'wb')"
   ]
  },
  {
   "cell_type": "code",
   "execution_count": 6,
   "id": "23e0dee1",
   "metadata": {},
   "outputs": [],
   "source": [
    "file.write(page.content)\n",
    "file.close()"
   ]
  },
  {
   "cell_type": "code",
   "execution_count": 7,
   "id": "b6c56b44",
   "metadata": {},
   "outputs": [
    {
     "data": {
      "text/plain": [
       "b'<!doctype html>\\r\\n<html xmlns=\"http://www.w3.org/1999/xhtml\" xml:lang=\"en-US\" lang=\"en-US\">\\r\\n<head>\\r\\n<title>Xiaomi 12 - Full phone specifications</title>\\r\\n<script>\\r\\nDESKTOP_BASE_URL = \"https://www.gsmarena.com/\";\\r\\nMOBILE_BASE_URL = \"https://m.gsmarena.com/\";\\r\\nASSETS_BASE_URL  = \"https://fdn.gsmarena.com/vv/assets12/\";\\r\\nCDN_BASE_URL = \"//fdn.gsmarena.com/\";\\r\\nCDN2_BASE_URL = \"//fdn2.gsmarena.com/\";\\r\\n</script>\\r\\n\\r\\n\\r\\n<meta charset=\"utf-8\">\\r\\n<meta name=\"viewport\" content=\"width=1060, initial-scale=1.0\"'"
      ]
     },
     "execution_count": 7,
     "metadata": {},
     "output_type": "execute_result"
    }
   ],
   "source": [
    "page.content[:500]"
   ]
  },
  {
   "cell_type": "markdown",
   "id": "343fd192",
   "metadata": {},
   "source": [
    "## Loading HTML File using BeautifulSoup"
   ]
  },
  {
   "cell_type": "code",
   "execution_count": 8,
   "id": "a7f9c05b",
   "metadata": {},
   "outputs": [],
   "source": [
    "file = open('xiaomi_12-11285.html', 'r')\n",
    "soup = bs(file, 'html.parser')"
   ]
  },
  {
   "cell_type": "code",
   "execution_count": 9,
   "id": "26e7b5e9",
   "metadata": {},
   "outputs": [],
   "source": [
    "network_2g_bands = soup.select_one('[data-spec=\"net2g\"]') or \"undefined\"\n",
    "if network_2g_bands != 'undefined':\n",
    "    network_2g_bands = network_2g_bands.text"
   ]
  },
  {
   "cell_type": "code",
   "execution_count": 10,
   "id": "90bb0f82",
   "metadata": {},
   "outputs": [
    {
     "data": {
      "text/plain": [
       "'GSM 850 / 900 / 1800 / 1900 - SIM 1 & SIM 2'"
      ]
     },
     "execution_count": 10,
     "metadata": {},
     "output_type": "execute_result"
    }
   ],
   "source": [
    "# for one-liner haha, I prefer using this one\n",
    "network_2g_bands = soup.select_one('[data-spec=\"net2g\"]').text.strip() if soup.select_one('[data-spec=\"net2g\"]') != None else 'undefined'\n",
    "network_2g_bands"
   ]
  },
  {
   "cell_type": "code",
   "execution_count": 11,
   "id": "21e46317",
   "metadata": {},
   "outputs": [
    {
     "data": {
      "text/plain": [
       "'Xiaomi 12'"
      ]
     },
     "execution_count": 11,
     "metadata": {},
     "output_type": "execute_result"
    }
   ],
   "source": [
    "modelname = soup.select_one('[data-spec=\"modelname\"]').text.strip() if soup.select_one('[data-spec=\"modelname\"]') != None else 'undefined'\n",
    "modelname"
   ]
  },
  {
   "cell_type": "code",
   "execution_count": 12,
   "id": "b6b1440e",
   "metadata": {},
   "outputs": [
    {
     "data": {
      "text/plain": [
       "'GSM / CDMA / HSPA / EVDO / LTE / 5G'"
      ]
     },
     "execution_count": 12,
     "metadata": {},
     "output_type": "execute_result"
    }
   ],
   "source": [
    "network_tech = soup.select_one('[data-spec=\"nettech\"]').text.strip() if soup.select_one('[data-spec=\"nettech\"]') != None else 'undefined'\n",
    "network_tech"
   ]
  },
  {
   "cell_type": "code",
   "execution_count": 13,
   "id": "9a857e94",
   "metadata": {},
   "outputs": [
    {
     "data": {
      "text/plain": [
       "'HSDPA 800 / 850 / 900 / 1700(AWS) / 1900 / 2100'"
      ]
     },
     "execution_count": 13,
     "metadata": {},
     "output_type": "execute_result"
    }
   ],
   "source": [
    "network_3g_bands = soup.select_one('[data-spec=\"net3g\"]').text.strip() if soup.select_one('[data-spec=\"net3g\"]') != None else 'undefined'\n",
    "network_3g_bands"
   ]
  },
  {
   "cell_type": "code",
   "execution_count": 14,
   "id": "38783f1f",
   "metadata": {},
   "outputs": [
    {
     "data": {
      "text/plain": [
       "'1, 2, 3, 4, 5, 7, 8, 12, 13, 17, 18, 19, 20, 25, 26, 28, 32, 38, 39, 40, 41, 42, 48, 66 - International'"
      ]
     },
     "execution_count": 14,
     "metadata": {},
     "output_type": "execute_result"
    }
   ],
   "source": [
    "network_4g_bands = soup.select_one('[data-spec=\"net4g\"]').text.strip() if soup.select_one('[data-spec=\"net4g\"]') != None else 'undefined'\n",
    "network_4g_bands"
   ]
  },
  {
   "cell_type": "code",
   "execution_count": 15,
   "id": "85363bbf",
   "metadata": {},
   "outputs": [
    {
     "data": {
      "text/plain": [
       "'1, 3, 5, 7, 8, 20, 28, 38, 40, 41, 66, 77, 78, 79 SA/NSA - International'"
      ]
     },
     "execution_count": 15,
     "metadata": {},
     "output_type": "execute_result"
    }
   ],
   "source": [
    "network_5g_bands = soup.select_one('[data-spec=\"net5g\"]').text.strip() if soup.select_one('[data-spec=\"net5g\"]') != None else 'undefined'\n",
    "network_5g_bands"
   ]
  },
  {
   "cell_type": "code",
   "execution_count": 16,
   "id": "10c59eb9",
   "metadata": {},
   "outputs": [
    {
     "data": {
      "text/plain": [
       "'HSPA 42.2/5.76 Mbps, LTE-A, 5G'"
      ]
     },
     "execution_count": 16,
     "metadata": {},
     "output_type": "execute_result"
    }
   ],
   "source": [
    "network_speed = soup.select_one('[data-spec=\"speed\"]').text.strip() if soup.select_one('[data-spec=\"speed\"]') != None else 'undefined'\n",
    "network_speed"
   ]
  },
  {
   "cell_type": "code",
   "execution_count": 17,
   "id": "27eecb60",
   "metadata": {},
   "outputs": [
    {
     "data": {
      "text/plain": [
       "'2021, December 28'"
      ]
     },
     "execution_count": 17,
     "metadata": {},
     "output_type": "execute_result"
    }
   ],
   "source": [
    "launch_date = soup.select_one('[data-spec=\"year\"]').text.strip() if soup.select_one('[data-spec=\"year\"]') != None else 'undefined'\n",
    "launch_date"
   ]
  },
  {
   "cell_type": "code",
   "execution_count": 18,
   "id": "c90db968",
   "metadata": {},
   "outputs": [
    {
     "data": {
      "text/plain": [
       "'Available. Released 2021, December 31'"
      ]
     },
     "execution_count": 18,
     "metadata": {},
     "output_type": "execute_result"
    }
   ],
   "source": [
    "launch_status = soup.select_one('[data-spec=\"status\"]').text.strip() if soup.select_one('[data-spec=\"status\"]') != None else 'undefined'\n",
    "launch_status"
   ]
  },
  {
   "cell_type": "code",
   "execution_count": 19,
   "id": "58f00ea2",
   "metadata": {},
   "outputs": [
    {
     "data": {
      "text/plain": [
       "'152.7 x 69.9 x 8.2 mm (6.01 x 2.75 x 0.32 in)'"
      ]
     },
     "execution_count": 19,
     "metadata": {},
     "output_type": "execute_result"
    }
   ],
   "source": [
    "body_dimensions = soup.select_one('[data-spec=\"dimensions\"]').text.strip() if soup.select_one('[data-spec=\"dimensions\"]') != None else 'undefined'\n",
    "body_dimensions"
   ]
  },
  {
   "cell_type": "code",
   "execution_count": 20,
   "id": "4f5a26b9",
   "metadata": {},
   "outputs": [
    {
     "data": {
      "text/plain": [
       "'179 g or 180 g (6.31 oz)'"
      ]
     },
     "execution_count": 20,
     "metadata": {},
     "output_type": "execute_result"
    }
   ],
   "source": [
    "body_weight = soup.select_one('[data-spec=\"weight\"]').text.strip() if soup.select_one('[data-spec=\"weight\"]') != None else 'undefined'\n",
    "body_weight"
   ]
  },
  {
   "cell_type": "code",
   "execution_count": 21,
   "id": "a8a73bb4",
   "metadata": {},
   "outputs": [
    {
     "data": {
      "text/plain": [
       "'Glass front (Gorilla Glass Victus), glass back (Gorilla Glass 5), aluminum frame'"
      ]
     },
     "execution_count": 21,
     "metadata": {},
     "output_type": "execute_result"
    }
   ],
   "source": [
    "body_build = soup.select_one('[data-spec=\"build\"]').text.strip() if soup.select_one('[data-spec=\"build\"]') != None else 'undefined'\n",
    "body_build"
   ]
  },
  {
   "cell_type": "code",
   "execution_count": 22,
   "id": "f9132ec6",
   "metadata": {},
   "outputs": [
    {
     "data": {
      "text/plain": [
       "'Dual SIM (Nano-SIM, dual stand-by)'"
      ]
     },
     "execution_count": 22,
     "metadata": {},
     "output_type": "execute_result"
    }
   ],
   "source": [
    "sim_type = soup.select_one('[data-spec=\"sim\"]').text.strip() if soup.select_one('[data-spec=\"sim\"]') != None else 'undefined'\n",
    "sim_type"
   ]
  },
  {
   "cell_type": "code",
   "execution_count": 23,
   "id": "5c55a71c",
   "metadata": {},
   "outputs": [
    {
     "data": {
      "text/plain": [
       "'AMOLED, 68B colors, 120Hz, Dolby Vision, HDR10+, 1100 nits (peak)'"
      ]
     },
     "execution_count": 23,
     "metadata": {},
     "output_type": "execute_result"
    }
   ],
   "source": [
    "display_type = soup.select_one('[data-spec=\"displaytype\"]').text.strip() if soup.select_one('[data-spec=\"displaytype\"]') != None else 'undefined'\n",
    "display_type"
   ]
  },
  {
   "cell_type": "code",
   "execution_count": 24,
   "id": "bd5a5e1f",
   "metadata": {},
   "outputs": [
    {
     "data": {
      "text/plain": [
       "'6.28 inches, 95.2 cm2 (~89.2% screen-to-body ratio)'"
      ]
     },
     "execution_count": 24,
     "metadata": {},
     "output_type": "execute_result"
    }
   ],
   "source": [
    "display_size = soup.select_one('[data-spec=\"displaysize\"]').text.strip() if soup.select_one('[data-spec=\"displaysize\"]') != None else 'undefined'\n",
    "display_size"
   ]
  },
  {
   "cell_type": "code",
   "execution_count": 25,
   "id": "6d5dd810",
   "metadata": {},
   "outputs": [
    {
     "data": {
      "text/plain": [
       "'1080 x 2400 pixels, 20:9 ratio (~419 ppi density)'"
      ]
     },
     "execution_count": 25,
     "metadata": {},
     "output_type": "execute_result"
    }
   ],
   "source": [
    "display_resolution = soup.select_one('[data-spec=\"displayresolution\"]').text.strip() if soup.select_one('[data-spec=\"displayresolution\"]') != None else 'undefined'\n",
    "display_resolution"
   ]
  },
  {
   "cell_type": "code",
   "execution_count": 26,
   "id": "da3dd2a9",
   "metadata": {},
   "outputs": [
    {
     "data": {
      "text/plain": [
       "'Corning Gorilla Glass Victus'"
      ]
     },
     "execution_count": 26,
     "metadata": {},
     "output_type": "execute_result"
    }
   ],
   "source": [
    "display_protection = soup.select_one('[data-spec=\"displayprotection\"]').text.strip() if soup.select_one('[data-spec=\"displayprotection\"]') != None else 'undefined'\n",
    "display_protection"
   ]
  },
  {
   "cell_type": "code",
   "execution_count": 27,
   "id": "9c0f00d3",
   "metadata": {},
   "outputs": [
    {
     "data": {
      "text/plain": [
       "'Android 12, MIUI 13'"
      ]
     },
     "execution_count": 27,
     "metadata": {},
     "output_type": "execute_result"
    }
   ],
   "source": [
    "os = soup.select_one('[data-spec=\"os\"]').text.strip() if soup.select_one('[data-spec=\"os\"]') != None else 'undefined'\n",
    "os"
   ]
  },
  {
   "cell_type": "code",
   "execution_count": 28,
   "id": "819a6852",
   "metadata": {},
   "outputs": [
    {
     "data": {
      "text/plain": [
       "'Qualcomm SM8450 Snapdragon 8 Gen 1 (4 nm)'"
      ]
     },
     "execution_count": 28,
     "metadata": {},
     "output_type": "execute_result"
    }
   ],
   "source": [
    "chipset = soup.select_one('[data-spec=\"chipset\"]').text.strip() if soup.select_one('[data-spec=\"chipset\"]') != None else 'undefined'\n",
    "chipset"
   ]
  },
  {
   "cell_type": "code",
   "execution_count": 29,
   "id": "0366fb84",
   "metadata": {},
   "outputs": [
    {
     "data": {
      "text/plain": [
       "'Octa-core (1x3.00 GHz Cortex-X2 & 3x2.50 GHz Cortex-A710 & 4x1.80 GHz Cortex-A510)'"
      ]
     },
     "execution_count": 29,
     "metadata": {},
     "output_type": "execute_result"
    }
   ],
   "source": [
    "cpu = soup.select_one('[data-spec=\"cpu\"]').text.strip() if soup.select_one('[data-spec=\"cpu\"]') != None else 'undefined'\n",
    "cpu"
   ]
  },
  {
   "cell_type": "code",
   "execution_count": 30,
   "id": "203fd77f",
   "metadata": {},
   "outputs": [
    {
     "data": {
      "text/plain": [
       "'Adreno 730'"
      ]
     },
     "execution_count": 30,
     "metadata": {},
     "output_type": "execute_result"
    }
   ],
   "source": [
    "gpu = soup.select_one('[data-spec=\"gpu\"]').text.strip() if soup.select_one('[data-spec=\"gpu\"]') != None else 'undefined'\n",
    "gpu"
   ]
  },
  {
   "cell_type": "code",
   "execution_count": 31,
   "id": "edaa6c11",
   "metadata": {},
   "outputs": [
    {
     "data": {
      "text/plain": [
       "'No'"
      ]
     },
     "execution_count": 31,
     "metadata": {},
     "output_type": "execute_result"
    }
   ],
   "source": [
    "memory_slot = soup.select_one('[data-spec=\"memoryslot\"]').text.strip() if soup.select_one('[data-spec=\"memoryslot\"]') != None else 'undefined'\n",
    "memory_slot"
   ]
  },
  {
   "cell_type": "code",
   "execution_count": 32,
   "id": "e559113e",
   "metadata": {},
   "outputs": [
    {
     "data": {
      "text/plain": [
       "'128GB 8GB RAM, 256GB 8GB RAM, 256GB 12GB RAM'"
      ]
     },
     "execution_count": 32,
     "metadata": {},
     "output_type": "execute_result"
    }
   ],
   "source": [
    "internal_memory = soup.select_one('[data-spec=\"internalmemory\"]').text.strip() if soup.select_one('[data-spec=\"internalmemory\"]') != None else 'undefined'\n",
    "internal_memory"
   ]
  },
  {
   "cell_type": "code",
   "execution_count": 33,
   "id": "788d2267",
   "metadata": {},
   "outputs": [
    {
     "data": {
      "text/plain": [
       "'50 MP, f/1.9, 26mm (wide), 1/1.56\", 1.0Âµm, PDAF, OIS\\n13 MP, f/2.4, 12mm, 123Ëš (ultrawide), 1/3.06\", 1.12Âµm\\n5 MP, f/2.4, 50mm (telephoto macro), AF'"
      ]
     },
     "execution_count": 33,
     "metadata": {},
     "output_type": "execute_result"
    }
   ],
   "source": [
    "main_camera = soup.select_one('[data-spec=\"cam1modules\"]').text.strip() if soup.select_one('[data-spec=\"cam1modules\"]') != None else 'undefined'\n",
    "main_camera"
   ]
  },
  {
   "cell_type": "code",
   "execution_count": 34,
   "id": "1bf41aea",
   "metadata": {},
   "outputs": [
    {
     "data": {
      "text/plain": [
       "'Dual-LED dual-tone flash, HDR, panorama'"
      ]
     },
     "execution_count": 34,
     "metadata": {},
     "output_type": "execute_result"
    }
   ],
   "source": [
    "main_camera_features = soup.select_one('[data-spec=\"cam1features\"]').text.strip() if soup.select_one('[data-spec=\"cam1features\"]') != None else 'undefined'\n",
    "main_camera_features"
   ]
  },
  {
   "cell_type": "code",
   "execution_count": 35,
   "id": "1f2eeccb",
   "metadata": {},
   "outputs": [
    {
     "data": {
      "text/plain": [
       "'8K@24fps (HDR), 4K@30/60fps (HDR10+), 1080p@30/120/240/960fps, 720p@1920fps, gyro-EIS'"
      ]
     },
     "execution_count": 35,
     "metadata": {},
     "output_type": "execute_result"
    }
   ],
   "source": [
    "main_camera_video = soup.select_one('[data-spec=\"cam1video\"]').text.strip() if soup.select_one('[data-spec=\"cam1video\"]') != None else 'undefined'\n",
    "main_camera_video"
   ]
  },
  {
   "cell_type": "code",
   "execution_count": 36,
   "id": "63b10e96",
   "metadata": {},
   "outputs": [
    {
     "data": {
      "text/plain": [
       "'32 MP,Â\\xa0f/2.5, 26mm (wide), 0.7Âµm'"
      ]
     },
     "execution_count": 36,
     "metadata": {},
     "output_type": "execute_result"
    }
   ],
   "source": [
    "selfie_camera = soup.select_one('[data-spec=\"cam2modules\"]').text.strip() if soup.select_one('[data-spec=\"cam2modules\"]') != None else 'undefined'\n",
    "selfie_camera"
   ]
  },
  {
   "cell_type": "code",
   "execution_count": 37,
   "id": "6321ad7c",
   "metadata": {},
   "outputs": [
    {
     "data": {
      "text/plain": [
       "'1080p@30/60fps, 720p@120fps, HDR'"
      ]
     },
     "execution_count": 37,
     "metadata": {},
     "output_type": "execute_result"
    }
   ],
   "source": [
    "selfie_camera_video = soup.select_one('[data-spec=\"cam2video\"]').text.strip() if soup.select_one('[data-spec=\"cam2video\"]') != None else 'undefined'\n",
    "selfie_camera_video"
   ]
  },
  {
   "cell_type": "code",
   "execution_count": 38,
   "id": "9a177fc2",
   "metadata": {},
   "outputs": [
    {
     "data": {
      "text/plain": [
       "'Wi-Fi 802.11 a/b/g/n/ac/6 or 6e (market dependent), dual-band, Wi-Fi Direct, hotspot'"
      ]
     },
     "execution_count": 38,
     "metadata": {},
     "output_type": "execute_result"
    }
   ],
   "source": [
    "wlan = soup.select_one('[data-spec=\"wlan\"]').text.strip() if soup.select_one('[data-spec=\"wlan\"]') != None else 'undefined'\n",
    "wlan"
   ]
  },
  {
   "cell_type": "code",
   "execution_count": 39,
   "id": "3b66efd0",
   "metadata": {},
   "outputs": [
    {
     "data": {
      "text/plain": [
       "'Yes'"
      ]
     },
     "execution_count": 39,
     "metadata": {},
     "output_type": "execute_result"
    }
   ],
   "source": [
    "infrared_port = soup.select_one('[href*=\"irda\"]').parent.next_sibling.next_sibling.text.strip() if soup.select_one('[href*=\"irda\"]').parent.next_sibling.next_sibling != None else 'undefined'\n",
    "infrared_port"
   ]
  },
  {
   "cell_type": "code",
   "execution_count": 40,
   "id": "f0f20aba",
   "metadata": {},
   "outputs": [
    {
     "data": {
      "text/plain": [
       "'5.2, A2DP, LE'"
      ]
     },
     "execution_count": 40,
     "metadata": {},
     "output_type": "execute_result"
    }
   ],
   "source": [
    "bluetooth = soup.select_one('[data-spec=\"bluetooth\"]').text.strip() if soup.select_one('[data-spec=\"bluetooth\"]') != None else 'undefined'\n",
    "bluetooth"
   ]
  },
  {
   "cell_type": "code",
   "execution_count": 41,
   "id": "f48239e1",
   "metadata": {},
   "outputs": [
    {
     "data": {
      "text/plain": [
       "'Yes, with A-GPS. Up to tri-band: GLONASS (1), BDS (3), GALILEO (2), QZSS (2), NavIC'"
      ]
     },
     "execution_count": 41,
     "metadata": {},
     "output_type": "execute_result"
    }
   ],
   "source": [
    "gps = soup.select_one('[data-spec=\"gps\"]').text.strip() if soup.select_one('[data-spec=\"gps\"]') != None else 'undefined'\n",
    "gps"
   ]
  },
  {
   "cell_type": "code",
   "execution_count": 42,
   "id": "c8031582",
   "metadata": {},
   "outputs": [
    {
     "data": {
      "text/plain": [
       "'Yes (market/region dependent)'"
      ]
     },
     "execution_count": 42,
     "metadata": {},
     "output_type": "execute_result"
    }
   ],
   "source": [
    "nfc = soup.select_one('[data-spec=\"nfc\"]').text.strip() if soup.select_one('[data-spec=\"nfc\"]') != None else 'undefined'\n",
    "nfc"
   ]
  },
  {
   "cell_type": "code",
   "execution_count": 43,
   "id": "0c2bdf51",
   "metadata": {},
   "outputs": [
    {
     "data": {
      "text/plain": [
       "'No'"
      ]
     },
     "execution_count": 43,
     "metadata": {},
     "output_type": "execute_result"
    }
   ],
   "source": [
    "radio = soup.select_one('[data-spec=\"radio\"]').text.strip() if soup.select_one('[data-spec=\"radio\"]') != None else 'undefined'\n",
    "radio"
   ]
  },
  {
   "cell_type": "code",
   "execution_count": 44,
   "id": "2d14e83b",
   "metadata": {},
   "outputs": [
    {
     "data": {
      "text/plain": [
       "'USB Type-C 2.0, USB On-The-Go'"
      ]
     },
     "execution_count": 44,
     "metadata": {},
     "output_type": "execute_result"
    }
   ],
   "source": [
    "usb = soup.select_one('[data-spec=\"usb\"]').text.strip() if soup.select_one('[data-spec=\"usb\"]') != None else 'undefined'\n",
    "usb"
   ]
  },
  {
   "cell_type": "code",
   "execution_count": 45,
   "id": "1a408883",
   "metadata": {},
   "outputs": [
    {
     "data": {
      "text/plain": [
       "'Fingerprint (under display, optical), accelerometer, gyro, compass, color spectrum'"
      ]
     },
     "execution_count": 45,
     "metadata": {},
     "output_type": "execute_result"
    }
   ],
   "source": [
    "sensors = soup.select_one('[data-spec=\"sensors\"]').text.strip() if soup.select_one('[data-spec=\"sensors\"]') != None else 'undefined'\n",
    "sensors"
   ]
  },
  {
   "cell_type": "code",
   "execution_count": 46,
   "id": "86972632",
   "metadata": {},
   "outputs": [
    {
     "data": {
      "text/plain": [
       "'Li-Po 4500 mAh, non-removable'"
      ]
     },
     "execution_count": 46,
     "metadata": {},
     "output_type": "execute_result"
    }
   ],
   "source": [
    "battery = soup.select_one('[data-spec=\"batdescription1\"]').text.strip() if soup.select_one('[data-spec=\"batdescription1\"]') != None else 'undefined'\n",
    "battery"
   ]
  },
  {
   "cell_type": "code",
   "execution_count": 47,
   "id": "76da67f7",
   "metadata": {},
   "outputs": [
    {
     "data": {
      "text/plain": [
       "'Fast charging 67W, 100% in 39 min (advertised)\\nFast wireless charging 50W, 100% in 53 min (advertised)\\nReverse wireless charging 10W\\nPower Delivery 3.0\\nQuick Charge 4+'"
      ]
     },
     "execution_count": 47,
     "metadata": {},
     "output_type": "execute_result"
    }
   ],
   "source": [
    "battery_charging = soup.select_one('[href*=\"battery-charging\"]').parent.next_sibling.next_sibling.text.strip() if soup.select_one('[href*=\"battery-charging\"]').parent.next_sibling.next_sibling != None else 'undefined'\n",
    "battery_charging"
   ]
  },
  {
   "cell_type": "code",
   "execution_count": 48,
   "id": "2b7bab29",
   "metadata": {},
   "outputs": [
    {
     "data": {
      "text/plain": [
       "'Gray, Blue, Purple, Green'"
      ]
     },
     "execution_count": 48,
     "metadata": {},
     "output_type": "execute_result"
    }
   ],
   "source": [
    "colors = soup.select_one('[data-spec=\"colors\"]').text.strip() if soup.select_one('[data-spec=\"colors\"]') != None else 'undefined'\n",
    "colors"
   ]
  },
  {
   "cell_type": "code",
   "execution_count": 49,
   "id": "8bb47911",
   "metadata": {},
   "outputs": [
    {
     "data": {
      "text/plain": [
       "'2201123G, 2201123C'"
      ]
     },
     "execution_count": 49,
     "metadata": {},
     "output_type": "execute_result"
    }
   ],
   "source": [
    "models = soup.select_one('[data-spec=\"models\"]').text.strip() if soup.select_one('[data-spec=\"models\"]') != None else 'undefined'\n",
    "models"
   ]
  },
  {
   "cell_type": "code",
   "execution_count": 50,
   "id": "0f436831",
   "metadata": {},
   "outputs": [
    {
     "data": {
      "text/plain": [
       "'1.09 W/kg (head) \\xa0 \\xa0 0.91 W/kg (body)'"
      ]
     },
     "execution_count": 50,
     "metadata": {},
     "output_type": "execute_result"
    }
   ],
   "source": [
    "sar_us = soup.select_one('[data-spec=\"sar-us\"]').text.strip() if soup.select_one('[data-spec=\"sar-us\"]') != None else 'undefined'\n",
    "sar_us"
   ]
  },
  {
   "cell_type": "code",
   "execution_count": 51,
   "id": "ebb7193c",
   "metadata": {},
   "outputs": [
    {
     "data": {
      "text/plain": [
       "'0.60 W/kg (head) \\xa0 \\xa0 1.00 W/kg (body)'"
      ]
     },
     "execution_count": 51,
     "metadata": {},
     "output_type": "execute_result"
    }
   ],
   "source": [
    "sar_eu = soup.select_one('[data-spec=\"sar-eu\"]').text.strip() if soup.select_one('[data-spec=\"sar-eu\"]') != None else 'undefined'\n",
    "sar_eu"
   ]
  },
  {
   "cell_type": "code",
   "execution_count": 52,
   "id": "611083c0",
   "metadata": {},
   "outputs": [
    {
     "data": {
      "text/plain": [
       "'$\\u2009630.00 / €\\u2009605.00 / £\\u2009759.00'"
      ]
     },
     "execution_count": 52,
     "metadata": {},
     "output_type": "execute_result"
    }
   ],
   "source": [
    "price = soup.select_one('[data-spec=\"price\"]').text.strip() if soup.select_one('[data-spec=\"price\"]') != None else 'undefined'\n",
    "price"
   ]
  },
  {
   "cell_type": "code",
   "execution_count": 53,
   "id": "248d08d7",
   "metadata": {},
   "outputs": [
    {
     "data": {
      "text/plain": [
       "'AnTuTu: 985115 (v9)\\nGeekBench: 3652 (v5.1)\\nGFXBench: 75fps (ES 3.1 onscreen)'"
      ]
     },
     "execution_count": 53,
     "metadata": {},
     "output_type": "execute_result"
    }
   ],
   "source": [
    "tbench = soup.select_one('[data-spec=\"tbench\"]').text.strip() if soup.select_one('[data-spec=\"tbench\"]') != None else 'undefined'\n",
    "tbench"
   ]
  },
  {
   "cell_type": "code",
   "execution_count": 54,
   "id": "24d075e9",
   "metadata": {},
   "outputs": [
    {
     "data": {
      "text/plain": [
       "'\\n\\nEndurance rating 82h\\n\\n'"
      ]
     },
     "execution_count": 54,
     "metadata": {},
     "output_type": "execute_result"
    }
   ],
   "source": [
    "battery_life = soup.select_one('[data-spec=\"batlife\"]').text if soup.select_one('[data-spec=\"batlife\"]') != None else 'undefined'\n",
    "battery_life"
   ]
  },
  {
   "cell_type": "code",
   "execution_count": 55,
   "id": "06bf7f93",
   "metadata": {},
   "outputs": [
    {
     "data": {
      "text/plain": [
       "'Yes, with stereo speakers'"
      ]
     },
     "execution_count": 55,
     "metadata": {},
     "output_type": "execute_result"
    }
   ],
   "source": [
    "loudspeaker = soup.select_one('[href*=\"loudspeaker\"]').parent.next_sibling.next_sibling.text.strip() if soup.select_one('[href*=\"loudspeaker\"]').parent.next_sibling.next_sibling != None else 'undefined'\n",
    "loudspeaker"
   ]
  }
 ],
 "metadata": {
  "kernelspec": {
   "display_name": "Python [conda env:scraping] *",
   "language": "python",
   "name": "conda-env-scraping-py"
  },
  "language_info": {
   "codemirror_mode": {
    "name": "ipython",
    "version": 3
   },
   "file_extension": ".py",
   "mimetype": "text/x-python",
   "name": "python",
   "nbconvert_exporter": "python",
   "pygments_lexer": "ipython3",
   "version": "3.8.13"
  }
 },
 "nbformat": 4,
 "nbformat_minor": 5
}
